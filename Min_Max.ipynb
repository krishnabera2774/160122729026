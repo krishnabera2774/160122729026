{
  "nbformat": 4,
  "nbformat_minor": 0,
  "metadata": {
    "colab": {
      "provenance": [],
      "include_colab_link": true
    },
    "kernelspec": {
      "name": "python3",
      "display_name": "Python 3"
    },
    "language_info": {
      "name": "python"
    }
  },
  "cells": [
    {
      "cell_type": "markdown",
      "metadata": {
        "id": "view-in-github",
        "colab_type": "text"
      },
      "source": [
        "<a href=\"https://colab.research.google.com/github/krishnabera2774/160122729026/blob/main/Min_Max.ipynb\" target=\"_parent\"><img src=\"https://colab.research.google.com/assets/colab-badge.svg\" alt=\"Open In Colab\"/></a>"
      ]
    },
    {
      "cell_type": "code",
      "execution_count": 4,
      "metadata": {
        "id": "foiE1mSJd3T3",
        "outputId": "464f9ffa-8d20-4a3b-db9d-d5ba17636d64",
        "colab": {
          "base_uri": "https://localhost:8080/"
        }
      },
      "outputs": [
        {
          "output_type": "stream",
          "name": "stdout",
          "text": [
            "the final solution of the node is: 10\n"
          ]
        }
      ],
      "source": [
        "import math\n",
        "def minimax(cur_depth,node_index,max_trun,scores,target_depth):\n",
        "    if cur_depth==target_depth:\n",
        "        return scores[node_index]\n",
        "    if max_trun:\n",
        "        return max(minimax(cur_depth+1,node_index*2,False,scores,target_depth),\n",
        "                   minimax(cur_depth+1,node_index*2+1,False,scores,target_depth))\n",
        "    else:\n",
        "        return min(minimax(cur_depth+1,node_index*2,True,scores,target_depth),\n",
        "                   minimax(cur_depth+1,node_index*2+1,True,scores,target_depth))\n",
        "\n",
        "scores=[10,-3,-19,11,11,0,-2,-2,-2,14,-16,2,17,15,-14,15,-15,13,-19,-9,4,-9,2,9,-14,2,-18]\n",
        "tree_depth=3\n",
        "print(\"the final solution of the node is:\",minimax(0,0,True,scores,int(tree_depth)))"
      ]
    }
  ]
}